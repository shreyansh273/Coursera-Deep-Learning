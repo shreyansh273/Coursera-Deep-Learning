{
  "nbformat": 4,
  "nbformat_minor": 0,
  "metadata": {
    "colab": {
      "name": "Neural Network.ipynb",
      "provenance": [],
      "collapsed_sections": [],
      "authorship_tag": "ABX9TyPVjLMIUhsgpAXDDP9jacdL",
      "include_colab_link": true
    },
    "kernelspec": {
      "name": "python3",
      "display_name": "Python 3"
    },
    "language_info": {
      "name": "python"
    }
  },
  "cells": [
    {
      "cell_type": "markdown",
      "metadata": {
        "id": "view-in-github",
        "colab_type": "text"
      },
      "source": [
        "<a href=\"https://colab.research.google.com/github/shreyansh273/Coursera-Deep-Learning/blob/main/Neural%20Network%20and%20Deep%20Learning/Practise/Neural_Network.ipynb\" target=\"_parent\"><img src=\"https://colab.research.google.com/assets/colab-badge.svg\" alt=\"Open In Colab\"/></a>"
      ]
    },
    {
      "cell_type": "markdown",
      "metadata": {
        "id": "IG4b4g-6NvCO"
      },
      "source": [
        "**Importing packages**"
      ]
    },
    {
      "cell_type": "code",
      "metadata": {
        "id": "RJup_n0OEY99"
      },
      "source": [
        "import pandas as pd\n",
        "import numpy as np\n",
        "import matplotlib.pyplot as plt"
      ],
      "execution_count": 42,
      "outputs": []
    },
    {
      "cell_type": "markdown",
      "metadata": {
        "id": "q4LwHA0GNpMh"
      },
      "source": [
        "**Activation functions and their gradients**"
      ]
    },
    {
      "cell_type": "code",
      "metadata": {
        "id": "aAwZtMCsKNUI"
      },
      "source": [
        "def sigmoid(x):\n",
        "  return 1/(1+np.exp(-x))"
      ],
      "execution_count": 2,
      "outputs": []
    },
    {
      "cell_type": "code",
      "metadata": {
        "id": "zEbuYgeC_pY-"
      },
      "source": [
        "def sigmoid_backward(dA, activation_cache):\n",
        "  Z = activation_cache\n",
        "  s = sigmoid(Z)\n",
        "  return dA*s*(1-s)"
      ],
      "execution_count": 3,
      "outputs": []
    },
    {
      "cell_type": "code",
      "metadata": {
        "id": "yIWI4mdAAE4L"
      },
      "source": [
        "def relu_backward(dA, activation_cache):\n",
        "  Z = activation_cache\n",
        "  Z[Z<=0] = 0\n",
        "  Z[Z>0] = 1\n",
        "  return dA*Z"
      ],
      "execution_count": 4,
      "outputs": []
    },
    {
      "cell_type": "markdown",
      "metadata": {
        "id": "FOucjuv-Nzsj"
      },
      "source": [
        "**Function to initialize paramters of the Neural Network**"
      ]
    },
    {
      "cell_type": "code",
      "metadata": {
        "id": "t6ZBioWVEilj"
      },
      "source": [
        "def initialize_parameters(layer_dims):\n",
        "  np.random.seed(52)\n",
        "  L = len(layer_dims)\n",
        "  parameters = {}\n",
        "  for i in range(1,L):\n",
        "    parameters[\"W\"+str(i)] = np.random.randn(layer_dims[i], layer_dims[i-1])*0.01 #cant initialize with zeros as the gradient wont change hence the paramters also wont change\n",
        "    parameters[\"b\"+str(i)] = np.zeros((layer_dims[i],1))\n",
        "  return parameters"
      ],
      "execution_count": 5,
      "outputs": []
    },
    {
      "cell_type": "code",
      "metadata": {
        "colab": {
          "base_uri": "https://localhost:8080/"
        },
        "id": "vLA8DvIgE5AP",
        "outputId": "121196a6-73fe-4552-e3c5-058a63f9ec93"
      },
      "source": [
        "parameters = initialize_parameters([3,2,1])\n",
        "print(parameters)"
      ],
      "execution_count": 6,
      "outputs": [
        {
          "output_type": "stream",
          "text": [
            "{'W1': array([[ 0.00519476, -0.0126875 ,  0.0024042 ],\n",
            "       [-0.00803957,  0.00017344,  0.00394394]]), 'b1': array([[0.],\n",
            "       [0.]]), 'W2': array([[0.01279132, 0.00659736]]), 'b2': array([[0.]])}\n"
          ],
          "name": "stdout"
        }
      ]
    },
    {
      "cell_type": "markdown",
      "metadata": {
        "id": "eQCHJeQ-N7hW"
      },
      "source": [
        "**Function for the linear part of forward propagation**"
      ]
    },
    {
      "cell_type": "code",
      "metadata": {
        "id": "5p1dN1gnFmGs"
      },
      "source": [
        "def linear_forward(A, W, b):\n",
        "  Z = np.dot(W, A) +b\n",
        "  cache = (A, W, b)\n",
        "  return Z, cache"
      ],
      "execution_count": 7,
      "outputs": []
    },
    {
      "cell_type": "code",
      "metadata": {
        "colab": {
          "base_uri": "https://localhost:8080/"
        },
        "id": "Q3OK8AJdFmJL",
        "outputId": "c5a16825-d766-49ed-bd10-93d672fa0f28"
      },
      "source": [
        "A0 = np.random.randn(3,2)*100\n",
        "W1 = parameters[\"W1\"]\n",
        "b1 = parameters[\"b1\"]\n",
        "Z1, cache1 = linear_forward(A0, W1, b1)\n",
        "print(Z1.shape)  #can be understood as the 5 input variables after passing through the first layer become 4 so the shape changes from (5,20) to (4,20)\n",
        "print(Z1)"
      ],
      "execution_count": 8,
      "outputs": [
        {
          "output_type": "stream",
          "text": [
            "(2, 2)\n",
            "[[ 0.34707294 -0.97686272]\n",
            " [ 0.44433862 -0.95274972]]\n"
          ],
          "name": "stdout"
        }
      ]
    },
    {
      "cell_type": "markdown",
      "metadata": {
        "id": "I6pLx-73OBKu"
      },
      "source": [
        "**Function for the non-linear part of forward propagation**"
      ]
    },
    {
      "cell_type": "code",
      "metadata": {
        "id": "G4LNkb-_FmLr"
      },
      "source": [
        "def linear_activation_forward(A_prev, W, b, activation):\n",
        "  Z, linear_cache = linear_forward(A_prev, W, b)\n",
        "  if activation == 'sigmoid':\n",
        "    A = sigmoid(Z)\n",
        "  elif activation == 'relu':\n",
        "    A = np.maximum(Z,0)\n",
        "  activation_cache = Z\n",
        "  cache = (linear_cache, activation_cache)\n",
        "  return A, cache"
      ],
      "execution_count": 9,
      "outputs": []
    },
    {
      "cell_type": "code",
      "metadata": {
        "colab": {
          "base_uri": "https://localhost:8080/"
        },
        "id": "Son1oIztFmOD",
        "outputId": "a99aaf09-f7ea-4c2f-fbd3-4345c5ced49a"
      },
      "source": [
        "A1, cache = linear_activation_forward(A0, W1, b1, 'sigmoid')\n",
        "print(A1.shape) \n",
        "print(A1)\n",
        "A1, cache = linear_activation_forward(A0, W1, b1, 'relu')\n",
        "print(A1.shape) \n",
        "print(A1)"
      ],
      "execution_count": 10,
      "outputs": [
        {
          "output_type": "stream",
          "text": [
            "(2, 2)\n",
            "[[0.58590759 0.27351473]\n",
            " [0.60929235 0.27833217]]\n",
            "(2, 2)\n",
            "[[0.34707294 0.        ]\n",
            " [0.44433862 0.        ]]\n"
          ],
          "name": "stdout"
        }
      ]
    },
    {
      "cell_type": "markdown",
      "metadata": {
        "id": "7fkGT0-ZOGpr"
      },
      "source": [
        "**Function for the complete forward propagation**"
      ]
    },
    {
      "cell_type": "code",
      "metadata": {
        "id": "m1rfsKIcFmQi"
      },
      "source": [
        "def L_model_forward(X, parameters):\n",
        "  caches = []\n",
        "  A = X\n",
        "  L = len(parameters) //2\n",
        "  for i in range(1,L):\n",
        "    A_prev = A\n",
        "    A, cache = linear_activation_forward(A_prev, parameters['W'+ str(i)], parameters['b'+str(i)], 'relu')\n",
        "    caches.append(cache)\n",
        "  AL, cache = linear_activation_forward(A, parameters['W'+str(L)], parameters['b'+str(L)], 'sigmoid')\n",
        "  caches.append(cache)\n",
        "  return AL, caches"
      ],
      "execution_count": 11,
      "outputs": []
    },
    {
      "cell_type": "code",
      "metadata": {
        "colab": {
          "base_uri": "https://localhost:8080/"
        },
        "id": "GHwFSfgmFmS9",
        "outputId": "3a8e79dd-e6f3-4129-e29e-4a2e3aef9395"
      },
      "source": [
        "AL, caches = L_model_forward(A0, parameters)\n",
        "print(AL.shape)\n",
        "print(AL)"
      ],
      "execution_count": 12,
      "outputs": [
        {
          "output_type": "stream",
          "text": [
            "(1, 2)\n",
            "[[0.50184274 0.5       ]]\n"
          ],
          "name": "stdout"
        }
      ]
    },
    {
      "cell_type": "markdown",
      "metadata": {
        "id": "pWS30yn3X18K"
      },
      "source": [
        "**Function to compute cost function for Neural Network**"
      ]
    },
    {
      "cell_type": "code",
      "metadata": {
        "id": "wmMkYtmsFmYF"
      },
      "source": [
        "def compute_cost(AL,Y):\n",
        "  m = AL.shape[1]\n",
        "  cost = -1/m*(np.sum(np.multiply(Y, np.log(AL)) + np.multiply(1-Y, np.log(1-AL))))\n",
        "  return cost"
      ],
      "execution_count": 13,
      "outputs": []
    },
    {
      "cell_type": "code",
      "metadata": {
        "colab": {
          "base_uri": "https://localhost:8080/"
        },
        "id": "Mex3B2IhFmah",
        "outputId": "9c93c5fc-10a7-4b50-d06c-18099e1379a7"
      },
      "source": [
        "Y = np.array([1,0]).reshape(1,2)\n",
        "cost = compute_cost(AL,Y)\n",
        "print(cost)"
      ],
      "execution_count": 14,
      "outputs": [
        {
          "output_type": "stream",
          "text": [
            "0.691307829901911\n"
          ],
          "name": "stdout"
        }
      ]
    },
    {
      "cell_type": "markdown",
      "metadata": {
        "id": "lf23pop6JIeO"
      },
      "source": [
        "**Backward Propagation**"
      ]
    },
    {
      "cell_type": "code",
      "metadata": {
        "id": "-wP6l2gkFmff"
      },
      "source": [
        "def linear_backward(dZ, cache):\n",
        "  (A_prev, W, b) = cache\n",
        "  m = A_prev.shape[1]\n",
        "  dW = 1/m*(np.dot(dZ, A_prev.T))\n",
        "  db = 1/m*(np.sum(dZ, axis=1, keepdims=True))\n",
        "  dA_prev = np.dot(W.T, dZ)\n",
        "  return dA_prev, dW, db"
      ],
      "execution_count": 15,
      "outputs": []
    },
    {
      "cell_type": "code",
      "metadata": {
        "id": "RVPajjow-UV2"
      },
      "source": [
        "def activation_backward(dA, cache, activation):\n",
        "  linear_cache, activation_cache = cache\n",
        "  if activation == 'sigmoid':\n",
        "    dZ = sigmoid_backward(dA, activation_cache)\n",
        "    dA_prev, dW, db = linear_backward(dZ, linear_cache)\n",
        "  if activation == 'relu':\n",
        "    dZ = relu_backward(dA, activation_cache)\n",
        "    dA_prev, dW, db = linear_backward(dZ, linear_cache)\n",
        "  return dA_prev, dW, db"
      ],
      "execution_count": 16,
      "outputs": []
    },
    {
      "cell_type": "code",
      "metadata": {
        "id": "8uNxL_rv-UY-"
      },
      "source": [
        "def L_model_backward(AL, Y, caches):\n",
        "  grads = {}\n",
        "  L = len(caches)\n",
        "  m = AL.shape[1]\n",
        "  Y = Y.reshape(AL.shape)\n",
        "\n",
        "  dAL = -(np.divide(Y,AL) - np.divide(1-Y, 1-AL))\n",
        "  current_cache = caches[L-1]  # L-1 is because the index starts from 0 \n",
        "  grads[\"dA\"+str(L-1)], grads[\"dW\"+str(L)], grads['db'+str(L)] = activation_backward(dAL, current_cache, 'sigmoid')\n",
        "\n",
        "  for l in reversed(range(L-1)):\n",
        "    current_cache = caches[l]\n",
        "    dA_prev_temp, dW_temp, db_temp = activation_backward(grads[\"dA\" + str(l+1)], current_cache, \"relu\")\n",
        "    grads[\"dA\" + str(l)] = dA_prev_temp #this doesnt work with same line assignment (dA0 key error)\n",
        "    grads[\"dW\" + str(l + 1)] = dW_temp\n",
        "    grads[\"db\" + str(l + 1)] = db_temp\n",
        "  return grads"
      ],
      "execution_count": 17,
      "outputs": []
    },
    {
      "cell_type": "code",
      "metadata": {
        "id": "S4enO-rdEcDw"
      },
      "source": [
        "grads = L_model_backward(AL, Y, caches)"
      ],
      "execution_count": 18,
      "outputs": []
    },
    {
      "cell_type": "markdown",
      "metadata": {
        "id": "7U_0b_Vupgbd"
      },
      "source": [
        "**Update Neural Network Parameters**"
      ]
    },
    {
      "cell_type": "code",
      "metadata": {
        "id": "9g8Xfn8M-Ud4"
      },
      "source": [
        "def update_parameters(params, grads, learning_rate):\n",
        "  parameters = params.copy()\n",
        "  L = len(parameters)//2\n",
        "  for i in range(L):\n",
        "    parameters[\"W\"+str(i+1)] = parameters[\"W\"+str(i+1)] - learning_rate*grads['dW'+str(i+1)]\n",
        "    parameters['b'+str(i+1)] = parameters['b'+str(i+1)] - learning_rate*grads['db'+str(i+1)]\n",
        "  return parameters"
      ],
      "execution_count": 31,
      "outputs": []
    },
    {
      "cell_type": "markdown",
      "metadata": {
        "id": "QVSR30PlpnAJ"
      },
      "source": [
        "**Neural Network Function**"
      ]
    },
    {
      "cell_type": "code",
      "metadata": {
        "id": "bCnZbsDJ-UqM"
      },
      "source": [
        "def L_layer_model(X, Y, layer_dims, learning_rate, num_iterations):\n",
        "  np.random.seed(52)\n",
        "  costs = []\n",
        "  parameters = initialize_parameters(layer_dims)\n",
        "  for i in range(0, num_iterations):\n",
        "    AL, caches = L_model_forward(X, parameters)\n",
        "\n",
        "    cost = compute_cost(AL, Y)\n",
        "\n",
        "    grads = L_model_backward(AL, Y, caches)\n",
        "\n",
        "    parameters = update_parameters(parameters, grads, learning_rate)\n",
        "\n",
        "    costs.append(cost)\n",
        "\n",
        "    if i%10 == 0:\n",
        "      print(\"Cost after {} iterations is {}\".format(i, cost))\n",
        "  \n",
        "  return parameters, costs"
      ],
      "execution_count": 39,
      "outputs": []
    },
    {
      "cell_type": "code",
      "metadata": {
        "colab": {
          "base_uri": "https://localhost:8080/"
        },
        "id": "sH_oxelG-UtS",
        "outputId": "c46fc23c-94ac-45c7-84ee-393b10df763e"
      },
      "source": [
        "parameters, costs = L_layer_model(A0, Y, [3,2,1] , 0.01, 50)"
      ],
      "execution_count": 41,
      "outputs": [
        {
          "output_type": "stream",
          "text": [
            "Cost after 0 iterations is 0.691307829901911\n",
            "Cost after 10 iterations is 0.6542519527553468\n",
            "Cost after 20 iterations is 0.44873382260949435\n",
            "Cost after 30 iterations is 0.3664306432358984\n",
            "Cost after 40 iterations is 0.34673327714850016\n"
          ],
          "name": "stdout"
        }
      ]
    },
    {
      "cell_type": "code",
      "metadata": {
        "colab": {
          "base_uri": "https://localhost:8080/",
          "height": 282
        },
        "id": "IJxQDY12-UvY",
        "outputId": "8a3ba4b7-0d35-4df0-d4fd-21a184b98ad0"
      },
      "source": [
        "fig, ax = plt.subplots()\n",
        "ax.plot(costs)"
      ],
      "execution_count": 43,
      "outputs": [
        {
          "output_type": "execute_result",
          "data": {
            "text/plain": [
              "[<matplotlib.lines.Line2D at 0x7f024d996dd0>]"
            ]
          },
          "metadata": {
            "tags": []
          },
          "execution_count": 43
        },
        {
          "output_type": "display_data",
          "data": {
            "image/png": "[encoded data removed]",
            "text/plain": [
              "<Figure size 432x288 with 1 Axes>"
            ]
          },
          "metadata": {
            "tags": [],
            "needs_background": "light"
          }
        }
      ]
    },
    {
      "cell_type": "code",
      "metadata": {
        "id": "6PFEjF4C-UyK"
      },
      "source": [
        ""
      ],
      "execution_count": null,
      "outputs": []
    },
    {
      "cell_type": "code",
      "metadata": {
        "id": "FRa9wGI9-U0y"
      },
      "source": [
        ""
      ],
      "execution_count": null,
      "outputs": []
    },
    {
      "cell_type": "code",
      "metadata": {
        "id": "xr7ZBBdI-U3a"
      },
      "source": [
        ""
      ],
      "execution_count": null,
      "outputs": []
    },
    {
      "cell_type": "code",
      "metadata": {
        "id": "CEsYIp4n-U6e"
      },
      "source": [
        ""
      ],
      "execution_count": null,
      "outputs": []
    },
    {
      "cell_type": "code",
      "metadata": {
        "id": "-j75hFIx-U8u"
      },
      "source": [
        ""
      ],
      "execution_count": null,
      "outputs": []
    },
    {
      "cell_type": "code",
      "metadata": {
        "id": "4K2-hqvw-U_s"
      },
      "source": [
        ""
      ],
      "execution_count": null,
      "outputs": []
    }
  ]
}